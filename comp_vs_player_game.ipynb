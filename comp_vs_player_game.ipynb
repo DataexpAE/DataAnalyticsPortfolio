{
 "cells": [
  {
   "cell_type": "code",
   "execution_count": 52,
   "id": "65a82445-8ef4-4288-ac32-4a7aff48312e",
   "metadata": {},
   "outputs": [
    {
     "name": "stdin",
     "output_type": "stream",
     "text": [
      "Enter a choice (rock,paper,scissors):  rock\n"
     ]
    },
    {
     "name": "stdout",
     "output_type": "stream",
     "text": [
      "you chose rock , computer chose scissors\n",
      "rock smashes scissors! You win!\n"
     ]
    }
   ],
   "source": [
    "import random\n",
    "\n",
    "def get_choices():\n",
    "    Player_choice = input('Enter a choice (rock,paper,scissors): ')\n",
    "    option=['rock', 'paper', 'scissors']\n",
    "    Computer_choice = random.choice(option)\n",
    "    choices={ 'player':Player_choice ,'computer':Computer_choice}\n",
    "\n",
    "    return choices\n",
    "\n",
    "\n",
    "def check_win(player,computer):\n",
    "    print(f'you chose {player} , computer chose {computer}')\n",
    "    if player == computer :\n",
    "       return 'it is a tie.'\n",
    "    elif player == 'rock' :\n",
    "      if computer == 'scissors':\n",
    "        return 'rock smashes scissors! You win!'\n",
    "      else :\n",
    "        return 'paper covers rock! You lose.'\n",
    "    elif player == 'paper' :\n",
    "      if computer == 'rock':\n",
    "        return 'paper covers rock! You win!'\n",
    "      else :\n",
    "        return 'Scissors cut paper! You lose.'\n",
    "            \n",
    "    elif player == 'scissors' :\n",
    "      if computer == 'paper':\n",
    "        return 'scissors cut paper! You win!'\n",
    "      else :\n",
    "        return 'rock smashes scissors! You lose.'\n",
    "\n",
    "choices = get_choices()\n",
    "result = check_win(choices['player'],choices['computer'])\n",
    "print(result)"
   ]
  },
  {
   "cell_type": "code",
   "execution_count": null,
   "id": "2b721f73-4e8e-470b-b306-4c91080d2752",
   "metadata": {},
   "outputs": [],
   "source": []
  },
  {
   "cell_type": "code",
   "execution_count": null,
   "id": "92268578-5d0d-451b-92da-cdab48168064",
   "metadata": {},
   "outputs": [],
   "source": []
  }
 ],
 "metadata": {
  "kernelspec": {
   "display_name": "Python [conda env:base] *",
   "language": "python",
   "name": "conda-base-py"
  },
  "language_info": {
   "codemirror_mode": {
    "name": "ipython",
    "version": 3
   },
   "file_extension": ".py",
   "mimetype": "text/x-python",
   "name": "python",
   "nbconvert_exporter": "python",
   "pygments_lexer": "ipython3",
   "version": "3.13.5"
  }
 },
 "nbformat": 4,
 "nbformat_minor": 5
}
